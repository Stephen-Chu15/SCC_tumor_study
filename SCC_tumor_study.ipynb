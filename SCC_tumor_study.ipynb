{
 "cells": [
  {
   "cell_type": "markdown",
   "metadata": {},
   "source": [
    "## Dependencies and Setup"
   ]
  },
  {
   "cell_type": "code",
   "execution_count": 1,
   "metadata": {},
   "outputs": [],
   "source": [
    "# Import dependencies\n",
    "import pandas as pd\n",
    "import matplotlib.pyplot as plt\n",
    "import numpy as np\n",
    "import scipy.stats as st\n",
    "from scipy.stats import sem"
   ]
  },
  {
   "cell_type": "code",
   "execution_count": null,
   "metadata": {},
   "outputs": [],
   "source": [
    "# Set path for data files\n",
    "mouse_metadata_path = 'data/Mouse_metadata.csv'\n",
    "study_results_path = 'data/Study_results.csv'\n",
    "\n",
    "# Read in mouse and study results data\n",
    "study_results = pd.read_csv(study_results_path)\n",
    "mouse_metadata = pd.read_csv(mouse_metadata_path)\n",
    "\n",
    "# Merge data into single dataset\n",
    "combined_data = pd.merge(study_results, mouse_metadata, how = 'left', on = 'Mouse ID')\n",
    "combined_data.head()"
   ]
  }
 ],
 "metadata": {
  "kernelspec": {
   "display_name": "Python 3",
   "language": "python",
   "name": "python3"
  },
  "language_info": {
   "codemirror_mode": {
    "name": "ipython",
    "version": 3
   },
   "file_extension": ".py",
   "mimetype": "text/x-python",
   "name": "python",
   "nbconvert_exporter": "python",
   "pygments_lexer": "ipython3",
   "version": "3.7.6"
  }
 },
 "nbformat": 4,
 "nbformat_minor": 4
}
